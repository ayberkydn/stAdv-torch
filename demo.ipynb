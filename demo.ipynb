{
 "cells": [
  {
   "cell_type": "code",
   "execution_count": 4,
   "metadata": {},
   "outputs": [
    {
     "name": "stderr",
     "output_type": "stream",
     "text": [
      "/home/ayb/.local/conda/envs/tez/lib/python3.8/site-packages/tqdm/auto.py:22: TqdmWarning: IProgress not found. Please update jupyter and ipywidgets. See https://ipywidgets.readthedocs.io/en/stable/user_install.html\n",
      "  from .autonotebook import tqdm as notebook_tqdm\n"
     ]
    }
   ],
   "source": [
    "import torch\n",
    "a = torch.cartesian_prod(torch.arange(5), torch.arange(5)).view(5,5,2)\n",
    "\n"
   ]
  },
  {
   "cell_type": "code",
   "execution_count": 5,
   "metadata": {},
   "outputs": [
    {
     "data": {
      "text/plain": [
       "torch.Size([5, 5, 2])"
      ]
     },
     "execution_count": 5,
     "metadata": {},
     "output_type": "execute_result"
    }
   ],
   "source": [
    "a.shape"
   ]
  },
  {
   "cell_type": "code",
   "execution_count": 6,
   "metadata": {},
   "outputs": [
    {
     "data": {
      "text/plain": [
       "tensor([0, 1])"
      ]
     },
     "execution_count": 6,
     "metadata": {},
     "output_type": "execute_result"
    }
   ],
   "source": [
    "a[0, 1]"
   ]
  },
  {
   "cell_type": "code",
   "execution_count": 8,
   "metadata": {},
   "outputs": [
    {
     "ename": "NameError",
     "evalue": "name 'self' is not defined",
     "output_type": "error",
     "traceback": [
      "\u001b[0;31m---------------------------------------------------------------------------\u001b[0m",
      "\u001b[0;31mNameError\u001b[0m                                 Traceback (most recent call last)",
      "\u001b[1;32m/home/ayb/stadv-torch/sandbox.ipynb Cell 4'\u001b[0m in \u001b[0;36m<cell line: 2>\u001b[0;34m()\u001b[0m\n\u001b[1;32m      <a href='vscode-notebook-cell://ssh-remote%2B144.122.166.228/home/ayb/stadv-torch/sandbox.ipynb#ch0000003vscode-remote?line=0'>1</a>\u001b[0m basegrid \u001b[39m=\u001b[39m (\n\u001b[0;32m----> <a href='vscode-notebook-cell://ssh-remote%2B144.122.166.228/home/ayb/stadv-torch/sandbox.ipynb#ch0000003vscode-remote?line=1'>2</a>\u001b[0m             torch\u001b[39m.\u001b[39mcartesian_prod(torch\u001b[39m.\u001b[39marange(\u001b[39mself\u001b[39;49m\u001b[39m.\u001b[39mH), torch\u001b[39m.\u001b[39marange(\u001b[39mself\u001b[39m\u001b[39m.\u001b[39mW))\n\u001b[1;32m      <a href='vscode-notebook-cell://ssh-remote%2B144.122.166.228/home/ayb/stadv-torch/sandbox.ipynb#ch0000003vscode-remote?line=2'>3</a>\u001b[0m             \u001b[39m.\u001b[39mview(\u001b[39mself\u001b[39m\u001b[39m.\u001b[39mH, \u001b[39mself\u001b[39m\u001b[39m.\u001b[39mW, \u001b[39m2\u001b[39m)\n\u001b[1;32m      <a href='vscode-notebook-cell://ssh-remote%2B144.122.166.228/home/ayb/stadv-torch/sandbox.ipynb#ch0000003vscode-remote?line=3'>4</a>\u001b[0m             \u001b[39m.\u001b[39munsqueeze(\u001b[39m0\u001b[39m)\n\u001b[1;32m      <a href='vscode-notebook-cell://ssh-remote%2B144.122.166.228/home/ayb/stadv-torch/sandbox.ipynb#ch0000003vscode-remote?line=4'>5</a>\u001b[0m             \u001b[39m.\u001b[39mrepeat_interleave(in_batch_size, dim\u001b[39m=\u001b[39m\u001b[39m0\u001b[39m)\n\u001b[1;32m      <a href='vscode-notebook-cell://ssh-remote%2B144.122.166.228/home/ayb/stadv-torch/sandbox.ipynb#ch0000003vscode-remote?line=5'>6</a>\u001b[0m         )\n",
      "\u001b[0;31mNameError\u001b[0m: name 'self' is not defined"
     ]
    }
   ],
   "source": [
    "basegrid = (\n",
    "            torch.cartesian_prod(torch.arange(self.H), torch.arange(self.W))\n",
    "            .view(self.H, self.W, 2)\n",
    "            .unsqueeze(0)\n",
    "            .repeat_interleave(in_batch_size, dim=0)\n",
    "        )"
   ]
  },
  {
   "cell_type": "code",
   "execution_count": null,
   "metadata": {},
   "outputs": [],
   "source": []
  }
 ],
 "metadata": {
  "interpreter": {
   "hash": "c1cf9e4d0178a845662c9582073ae99edb5a01aac10586047999df4e385af887"
  },
  "kernelspec": {
   "display_name": "Python 3.8.13 ('tez')",
   "language": "python",
   "name": "python3"
  },
  "language_info": {
   "codemirror_mode": {
    "name": "ipython",
    "version": 3
   },
   "file_extension": ".py",
   "mimetype": "text/x-python",
   "name": "python",
   "nbconvert_exporter": "python",
   "pygments_lexer": "ipython3",
   "version": "3.8.13"
  },
  "orig_nbformat": 4
 },
 "nbformat": 4,
 "nbformat_minor": 2
}
